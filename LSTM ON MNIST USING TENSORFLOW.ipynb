{
 "cells": [
  {
   "cell_type": "markdown",
   "id": "c96477a5",
   "metadata": {},
   "source": [
    "# Long Short Term Memory(LSTM) using Tensorflow"
   ]
  },
  {
   "cell_type": "markdown",
   "id": "0fc65da6",
   "metadata": {},
   "source": [
    "## Libraries"
   ]
  },
  {
   "cell_type": "code",
   "execution_count": 1,
   "id": "3c6b8415",
   "metadata": {},
   "outputs": [],
   "source": [
    "import tensorflow as tf\n",
    "from tensorflow.keras import datasets, layers, models\n",
    "import matplotlib.pyplot as plt\n",
    "import numpy as np\n",
    "import cv2 as cv"
   ]
  },
  {
   "cell_type": "markdown",
   "id": "83da4ac2",
   "metadata": {},
   "source": [
    "Using MNIST (hand written text) DATASET"
   ]
  },
  {
   "cell_type": "code",
   "execution_count": 2,
   "id": "b4c58ba9",
   "metadata": {},
   "outputs": [],
   "source": [
    "mnist = tf.keras.datasets.mnist"
   ]
  },
  {
   "cell_type": "markdown",
   "id": "0ea89c17",
   "metadata": {},
   "source": [
    "Divide Data into test and training data."
   ]
  },
  {
   "cell_type": "code",
   "execution_count": 3,
   "id": "9f674a7d",
   "metadata": {},
   "outputs": [],
   "source": [
    "(x_train,y_train),(x_test,y_test)=mnist.load_data()"
   ]
  },
  {
   "cell_type": "markdown",
   "id": "c5dc8f31",
   "metadata": {},
   "source": [
    "Creating a list of all the classes that a dataset contain."
   ]
  },
  {
   "cell_type": "code",
   "execution_count": 22,
   "id": "9c9b99cd",
   "metadata": {},
   "outputs": [],
   "source": [
    "classes=['ZERO','ONE','TWO','THREE','FOUR','FIVE','SIX','SEVEN','EIGHT','NINE','TEN']"
   ]
  },
  {
   "cell_type": "markdown",
   "id": "187665b2",
   "metadata": {},
   "source": [
    "Normalizing the image."
   ]
  },
  {
   "cell_type": "code",
   "execution_count": 11,
   "id": "cba4371f",
   "metadata": {},
   "outputs": [],
   "source": [
    "x_train=x_train/255\n",
    "x_test=x_test/255"
   ]
  },
  {
   "cell_type": "markdown",
   "id": "1d0b107a",
   "metadata": {},
   "source": [
    "Setting image size 28x28 because images in data set have this size."
   ]
  },
  {
   "cell_type": "code",
   "execution_count": 6,
   "id": "d9c172c3",
   "metadata": {},
   "outputs": [],
   "source": [
    "image_size=(28,28)"
   ]
  },
  {
   "cell_type": "markdown",
   "id": "87df3ba5",
   "metadata": {},
   "source": [
    "### LSTM MODEL "
   ]
  },
  {
   "cell_type": "code",
   "execution_count": 7,
   "id": "0bf10a78",
   "metadata": {},
   "outputs": [],
   "source": [
    "lstm=models.Sequential([\n",
    "    layers.LSTM(128,input_shape=image_size,activation='relu',return_sequences=True),\n",
    "    layers.Dropout(0.2),\n",
    "    \n",
    "    layers.LSTM(128,activation='relu'),\n",
    "    layers.Dropout(0.1),\n",
    "    \n",
    "    layers.Dense(32, activation='relu'),\n",
    "    layers.Dropout(0.2),\n",
    "\n",
    "    layers.Dense(10, activation='softmax')\n",
    "])"
   ]
  },
  {
   "cell_type": "markdown",
   "id": "c5a117d9",
   "metadata": {},
   "source": [
    "Setting adam optimizer with learning rate 1x10^-3."
   ]
  },
  {
   "cell_type": "code",
   "execution_count": 8,
   "id": "98ef40a0",
   "metadata": {
    "scrolled": true
   },
   "outputs": [
    {
     "name": "stderr",
     "output_type": "stream",
     "text": [
      "C:\\Users\\Junaid\\AppData\\Local\\Programs\\Python\\Python310\\lib\\site-packages\\keras\\optimizer_v2\\adam.py:105: UserWarning: The `lr` argument is deprecated, use `learning_rate` instead.\n",
      "  super(Adam, self).__init__(name, **kwargs)\n"
     ]
    }
   ],
   "source": [
    "opt=tf.keras.optimizers.Adam(learning_rate=1e-3,decay=1e-5)"
   ]
  },
  {
   "cell_type": "markdown",
   "id": "bb672913",
   "metadata": {},
   "source": [
    "Compiling Model."
   ]
  },
  {
   "cell_type": "code",
   "execution_count": 9,
   "id": "7b28ea29",
   "metadata": {},
   "outputs": [],
   "source": [
    "lstm.compile(optimizer=opt,\n",
    "           loss='sparse_categorical_crossentropy',\n",
    "           metrics=['accuracy'])"
   ]
  },
  {
   "cell_type": "markdown",
   "id": "74cb2d37",
   "metadata": {},
   "source": [
    "#### Training model on training data with 10 epochs."
   ]
  },
  {
   "cell_type": "code",
   "execution_count": 10,
   "id": "0c7d2ed0",
   "metadata": {
    "scrolled": false
   },
   "outputs": [
    {
     "name": "stdout",
     "output_type": "stream",
     "text": [
      "Epoch 1/10\n",
      "1875/1875 [==============================] - 75s 39ms/step - loss: 0.6670 - accuracy: 0.7812\n",
      "Epoch 2/10\n",
      "1875/1875 [==============================] - 82s 44ms/step - loss: 0.1647 - accuracy: 0.9541\n",
      "Epoch 3/10\n",
      "1875/1875 [==============================] - 79s 42ms/step - loss: 0.1096 - accuracy: 0.9708\n",
      "Epoch 4/10\n",
      "1875/1875 [==============================] - 78s 41ms/step - loss: 0.0868 - accuracy: 0.9775\n",
      "Epoch 5/10\n",
      "1875/1875 [==============================] - 78s 42ms/step - loss: 0.0713 - accuracy: 0.9816\n",
      "Epoch 6/10\n",
      "1875/1875 [==============================] - 70s 37ms/step - loss: 0.0561 - accuracy: 0.9849\n",
      "Epoch 7/10\n",
      "1875/1875 [==============================] - 71s 38ms/step - loss: 0.0504 - accuracy: 0.9872\n",
      "Epoch 8/10\n",
      "1875/1875 [==============================] - 71s 38ms/step - loss: 0.0458 - accuracy: 0.9878\n",
      "Epoch 9/10\n",
      "1875/1875 [==============================] - 70s 37ms/step - loss: 0.0351 - accuracy: 0.9902\n",
      "Epoch 10/10\n",
      "1875/1875 [==============================] - 70s 37ms/step - loss: 0.0355 - accuracy: 0.9905\n"
     ]
    },
    {
     "data": {
      "text/plain": [
       "<keras.callbacks.History at 0x1de000d50f0>"
      ]
     },
     "execution_count": 10,
     "metadata": {},
     "output_type": "execute_result"
    }
   ],
   "source": [
    "lstm.fit(x_train,y_train,epochs=10)"
   ]
  },
  {
   "cell_type": "markdown",
   "id": "8d3c4fc6",
   "metadata": {},
   "source": [
    "Loss and accuracy of the model at the en of 10 epochs."
   ]
  },
  {
   "cell_type": "code",
   "execution_count": 12,
   "id": "44e7b7c0",
   "metadata": {
    "scrolled": true
   },
   "outputs": [
    {
     "name": "stdout",
     "output_type": "stream",
     "text": [
      "313/313 [==============================] - 4s 13ms/step - loss: 0.0448 - accuracy: 0.9881\n",
      "LOSS OF THE MODEL IS 0.044842083007097244\n",
      "ACCURACY OF THE MODEL IS 98.8099992275238%\n"
     ]
    }
   ],
   "source": [
    "loss,accuracy=lstm.evaluate(x_test,y_test)\n",
    "print(\"LOSS OF THE MODEL IS {}\".format(loss))\n",
    "print(\"ACCURACY OF THE MODEL IS {}%\".format(accuracy*100))"
   ]
  },
  {
   "cell_type": "markdown",
   "id": "afa28547",
   "metadata": {},
   "source": [
    "This method is for displaying Image.\n"
   ]
  },
  {
   "cell_type": "code",
   "execution_count": 13,
   "id": "88571ba0",
   "metadata": {},
   "outputs": [],
   "source": [
    "def display_image(image,label):\n",
    "    plt.figure(figsize = (15,2))\n",
    "    plt.imshow(input_data[image])\n",
    "    plt.xlabel(classes[label])"
   ]
  },
  {
   "cell_type": "markdown",
   "id": "4111a251",
   "metadata": {},
   "source": [
    "##### Taking first  20 images from test data to check output."
   ]
  },
  {
   "cell_type": "code",
   "execution_count": 20,
   "id": "c95b9293",
   "metadata": {},
   "outputs": [],
   "source": [
    "input_data=x_test[:20]\n",
    "input_labels=y_test[:20]\n",
    "input_labels=input_labels.reshape(-1,)"
   ]
  },
  {
   "cell_type": "code",
   "execution_count": 18,
   "id": "d58ab207",
   "metadata": {},
   "outputs": [],
   "source": [
    "output=lstm.predict(input_data)\n",
    "predicted_classes=[np.argmax(i) for i in output]"
   ]
  },
  {
   "cell_type": "code",
   "execution_count": 23,
   "id": "2257cb1d",
   "metadata": {},
   "outputs": [
    {
     "data": {
      "image/png": "[encoded data removed]",
      "text/plain": [
       "<Figure size 1080x144 with 1 Axes>"
      ]
     },
     "metadata": {
      "needs_background": "light"
     },
     "output_type": "display_data"
    },
    {
     "data": {
      "image/png": "[encoded data removed]",
      "text/plain": [
       "<Figure size 1080x144 with 1 Axes>"
      ]
     },
     "metadata": {
      "needs_background": "light"
     },
     "output_type": "display_data"
    },
    {
     "data": {
      "image/png": "[encoded data removed]",
      "text/plain": [
       "<Figure size 1080x144 with 1 Axes>"
      ]
     },
     "metadata": {
      "needs_background": "light"
     },
     "output_type": "display_data"
    },
    {
     "data": {
      "image/png": "[encoded data removed]",
      "text/plain": [
       "<Figure size 1080x144 with 1 Axes>"
      ]
     },
     "metadata": {
      "needs_background": "light"
     },
     "output_type": "display_data"
    },
    {
     "data": {
      "image/png": "[encoded data removed]",
      "text/plain": [
       "<Figure size 1080x144 with 1 Axes>"
      ]
     },
     "metadata": {
      "needs_background": "light"
     },
     "output_type": "display_data"
    },
    {
     "data": {
      "image/png": "[encoded data removed]",
      "text/plain": [
       "<Figure size 1080x144 with 1 Axes>"
      ]
     },
     "metadata": {
      "needs_background": "light"
     },
     "output_type": "display_data"
    },
    {
     "data": {
      "image/png": "[encoded data removed]",
      "text/plain": [
       "<Figure size 1080x144 with 1 Axes>"
      ]
     },
     "metadata": {
      "needs_background": "light"
     },
     "output_type": "display_data"
    },
    {
     "data": {
      "image/png": "[encoded data removed]",
      "text/plain": [
       "<Figure size 1080x144 with 1 Axes>"
      ]
     },
     "metadata": {
      "needs_background": "light"
     },
     "output_type": "display_data"
    },
    {
     "data": {
      "image/png": "[encoded data removed]",
      "text/plain": [
       "<Figure size 1080x144 with 1 Axes>"
      ]
     },
     "metadata": {
      "needs_background": "light"
     },
     "output_type": "display_data"
    },
    {
     "data": {
      "image/png": "[encoded data removed]",
      "text/plain": [
       "<Figure size 1080x144 with 1 Axes>"
      ]
     },
     "metadata": {
      "needs_background": "light"
     },
     "output_type": "display_data"
    },
    {
     "data": {
      "image/png": "[encoded data removed]",
      "text/plain": [
       "<Figure size 1080x144 with 1 Axes>"
      ]
     },
     "metadata": {
      "needs_background": "light"
     },
     "output_type": "display_data"
    },
    {
     "data": {
      "image/png": "[encoded data removed]",
      "text/plain": [
       "<Figure size 1080x144 with 1 Axes>"
      ]
     },
     "metadata": {
      "needs_background": "light"
     },
     "output_type": "display_data"
    },
    {
     "data": {
      "image/png": "[encoded data removed]",
      "text/plain": [
       "<Figure size 1080x144 with 1 Axes>"
      ]
     },
     "metadata": {
      "needs_background": "light"
     },
     "output_type": "display_data"
    },
    {
     "data": {
      "image/png": "[encoded data removed]",
      "text/plain": [
       "<Figure size 1080x144 with 1 Axes>"
      ]
     },
     "metadata": {
      "needs_background": "light"
     },
     "output_type": "display_data"
    },
    {
     "data": {
      "image/png": "[encoded data removed]",
      "text/plain": [
       "<Figure size 1080x144 with 1 Axes>"
      ]
     },
     "metadata": {
      "needs_background": "light"
     },
     "output_type": "display_data"
    },
    {
     "data": {
      "image/png": "[encoded data removed]",
      "text/plain": [
       "<Figure size 1080x144 with 1 Axes>"
      ]
     },
     "metadata": {
      "needs_background": "light"
     },
     "output_type": "display_data"
    },
    {
     "data": {
      "image/png": "[encoded data removed]",
      "text/plain": [
       "<Figure size 1080x144 with 1 Axes>"
      ]
     },
     "metadata": {
      "needs_background": "light"
     },
     "output_type": "display_data"
    },
    {
     "data": {
      "image/png": "[encoded data removed]",
      "text/plain": [
       "<Figure size 1080x144 with 1 Axes>"
      ]
     },
     "metadata": {
      "needs_background": "light"
     },
     "output_type": "display_data"
    },
    {
     "data": {
      "image/png": "[encoded data removed]",
      "text/plain": [
       "<Figure size 1080x144 with 1 Axes>"
      ]
     },
     "metadata": {
      "needs_background": "light"
     },
     "output_type": "display_data"
    },
    {
     "data": {
      "image/png": "[encoded data removed]",
      "text/plain": [
       "<Figure size 1080x144 with 1 Axes>"
      ]
     },
     "metadata": {
      "needs_background": "light"
     },
     "output_type": "display_data"
    }
   ],
   "source": [
    "for i in range(len(input_data)):\n",
    "    display_image(i,predicted_classes[i])"
   ]
  }
 ],
 "metadata": {
  "kernelspec": {
   "display_name": "Python 3 (ipykernel)",
   "language": "python",
   "name": "python3"
  },
  "language_info": {
   "codemirror_mode": {
    "name": "ipython",
    "version": 3
   },
   "file_extension": ".py",
   "mimetype": "text/x-python",
   "name": "python",
   "nbconvert_exporter": "python",
   "pygments_lexer": "ipython3",
   "version": "3.10.2"
  }
 },
 "nbformat": 4,
 "nbformat_minor": 5
}
